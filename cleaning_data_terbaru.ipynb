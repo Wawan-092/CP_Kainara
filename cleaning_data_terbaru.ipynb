{
  "nbformat": 4,
  "nbformat_minor": 0,
  "metadata": {
    "colab": {
      "provenance": []
    },
    "kernelspec": {
      "name": "python3",
      "display_name": "Python 3"
    },
    "language_info": {
      "name": "python"
    }
  },
  "cells": [
    {
      "cell_type": "code",
      "execution_count": null,
      "metadata": {
        "id": "bya7R2KHW4zZ"
      },
      "outputs": [],
      "source": [
        "import pandas as pd\n",
        "import numpy as np\n",
        "from scipy import stats\n",
        "from sklearn.preprocessing import StandardScaler, MinMaxScaler, RobustScaler, LabelEncoder, OneHotEncoder"
      ]
    },
    {
      "cell_type": "code",
      "source": [
        "from google.colab import drive\n",
        "drive.mount('/content/drive')"
      ],
      "metadata": {
        "colab": {
          "base_uri": "https://localhost:8080/"
        },
        "id": "O3ZAiBDZXC4f",
        "outputId": "c6f84360-1f3a-4a28-eb81-e55fdb3d3a73"
      },
      "execution_count": null,
      "outputs": [
        {
          "output_type": "stream",
          "name": "stdout",
          "text": [
            "Mounted at /content/drive\n"
          ]
        }
      ]
    },
    {
      "cell_type": "code",
      "source": [
        "df = pd.read_csv('/content/drive/MyDrive/cleaning data/Hasil_Cleaned_Finish.csv')"
      ],
      "metadata": {
        "id": "s_8SBvy7XC0p"
      },
      "execution_count": null,
      "outputs": []
    },
    {
      "cell_type": "code",
      "source": [
        "#Melihat jumlah baris dan kolom\n",
        "df.shape"
      ],
      "metadata": {
        "colab": {
          "base_uri": "https://localhost:8080/"
        },
        "id": "2L2nzHkjXCw_",
        "outputId": "74b70907-936c-4668-8fc7-849f393c31f5"
      },
      "execution_count": null,
      "outputs": [
        {
          "output_type": "execute_result",
          "data": {
            "text/plain": [
              "(51697, 31)"
            ]
          },
          "metadata": {},
          "execution_count": 4
        }
      ]
    },
    {
      "cell_type": "code",
      "source": [
        "# untuk melihat informasi dari data\n",
        "df.info()"
      ],
      "metadata": {
        "colab": {
          "base_uri": "https://localhost:8080/"
        },
        "id": "K6HCGuhvXCtU",
        "outputId": "d48a97c9-8742-4799-b168-0d991b2c963a"
      },
      "execution_count": null,
      "outputs": [
        {
          "output_type": "stream",
          "name": "stdout",
          "text": [
            "<class 'pandas.core.frame.DataFrame'>\n",
            "RangeIndex: 51697 entries, 0 to 51696\n",
            "Data columns (total 31 columns):\n",
            " #   Column                                                Non-Null Count  Dtype  \n",
            "---  ------                                                --------------  -----  \n",
            " 0   Unnamed: 0                                            51697 non-null  int64  \n",
            " 1   Facility_ID                                           51697 non-null  object \n",
            " 2   Facility_Name                                         51697 non-null  object \n",
            " 3   Address                                               51697 non-null  object \n",
            " 4   City                                                  51697 non-null  object \n",
            " 5   State                                                 51697 non-null  object \n",
            " 6   ZIP_Code                                              51697 non-null  float64\n",
            " 7   County_Name                                           51697 non-null  object \n",
            " 8   Phone_Number                                          51697 non-null  object \n",
            " 9   HCAHPS_Measure_ID                                     51697 non-null  object \n",
            " 10  HCAHPS_Question                                       51697 non-null  object \n",
            " 11  HCAHPS_Answer_Description                             51697 non-null  object \n",
            " 12  Patient_Survey_Star_Rating                            51697 non-null  object \n",
            " 13  HCAHPS_Answer_Percent                                 51697 non-null  object \n",
            " 14  HCAHPS_Linear_Mean_Value                              51697 non-null  object \n",
            " 15  Number_of_Completed_Surveys                           51697 non-null  object \n",
            " 16  Survey_Response_Rate_Percent                          51697 non-null  object \n",
            " 17  Start_Date                                            51697 non-null  object \n",
            " 18  End_Date                                              51697 non-null  object \n",
            " 19  Year                                                  51697 non-null  int64  \n",
            " 20  Hospital_Type                                         51697 non-null  object \n",
            " 21  Hospital_Ownership                                    51697 non-null  object \n",
            " 22  Emergency_Services                                    51697 non-null  object \n",
            " 23  Hospital_overall_rating                               51697 non-null  object \n",
            " 24  Mortality_national_comparison                         51697 non-null  object \n",
            " 25  Safety_of_care_national_comparison                    51697 non-null  object \n",
            " 26  Readmission_national_comparison                       51697 non-null  object \n",
            " 27  Patient_experience_national_comparison                51697 non-null  object \n",
            " 28  Effectiveness_of_care_national_comparison             51697 non-null  object \n",
            " 29  Timeliness_of_care_national_comparison                51697 non-null  object \n",
            " 30  Efficient_use_of_medical_imaging_national_comparison  51697 non-null  object \n",
            "dtypes: float64(1), int64(2), object(28)\n",
            "memory usage: 12.2+ MB\n"
          ]
        }
      ]
    },
    {
      "cell_type": "code",
      "source": [
        "df = df.drop(columns=['Unnamed: 0'])"
      ],
      "metadata": {
        "id": "HQ7s1TR1v9BP"
      },
      "execution_count": null,
      "outputs": []
    },
    {
      "cell_type": "code",
      "source": [
        "df.info()"
      ],
      "metadata": {
        "colab": {
          "base_uri": "https://localhost:8080/"
        },
        "id": "JQqIVD5L1s_t",
        "outputId": "04f4e98f-f26f-42c4-f4ea-fc4a066fdf9b"
      },
      "execution_count": null,
      "outputs": [
        {
          "output_type": "stream",
          "name": "stdout",
          "text": [
            "<class 'pandas.core.frame.DataFrame'>\n",
            "RangeIndex: 51697 entries, 0 to 51696\n",
            "Data columns (total 30 columns):\n",
            " #   Column                                                Non-Null Count  Dtype  \n",
            "---  ------                                                --------------  -----  \n",
            " 0   Facility_ID                                           51697 non-null  object \n",
            " 1   Facility_Name                                         51697 non-null  object \n",
            " 2   Address                                               51697 non-null  object \n",
            " 3   City                                                  51697 non-null  object \n",
            " 4   State                                                 51697 non-null  object \n",
            " 5   ZIP_Code                                              51697 non-null  float64\n",
            " 6   County_Name                                           51697 non-null  object \n",
            " 7   Phone_Number                                          51697 non-null  object \n",
            " 8   HCAHPS_Measure_ID                                     51697 non-null  object \n",
            " 9   HCAHPS_Question                                       51697 non-null  object \n",
            " 10  HCAHPS_Answer_Description                             51697 non-null  object \n",
            " 11  Patient_Survey_Star_Rating                            51697 non-null  object \n",
            " 12  HCAHPS_Answer_Percent                                 51697 non-null  object \n",
            " 13  HCAHPS_Linear_Mean_Value                              51697 non-null  object \n",
            " 14  Number_of_Completed_Surveys                           51697 non-null  object \n",
            " 15  Survey_Response_Rate_Percent                          51697 non-null  object \n",
            " 16  Start_Date                                            51697 non-null  object \n",
            " 17  End_Date                                              51697 non-null  object \n",
            " 18  Year                                                  51697 non-null  int64  \n",
            " 19  Hospital_Type                                         51697 non-null  object \n",
            " 20  Hospital_Ownership                                    51697 non-null  object \n",
            " 21  Emergency_Services                                    51697 non-null  object \n",
            " 22  Hospital_overall_rating                               51697 non-null  object \n",
            " 23  Mortality_national_comparison                         51697 non-null  object \n",
            " 24  Safety_of_care_national_comparison                    51697 non-null  object \n",
            " 25  Readmission_national_comparison                       51697 non-null  object \n",
            " 26  Patient_experience_national_comparison                51697 non-null  object \n",
            " 27  Effectiveness_of_care_national_comparison             51697 non-null  object \n",
            " 28  Timeliness_of_care_national_comparison                51697 non-null  object \n",
            " 29  Efficient_use_of_medical_imaging_national_comparison  51697 non-null  object \n",
            "dtypes: float64(1), int64(1), object(28)\n",
            "memory usage: 11.8+ MB\n"
          ]
        }
      ]
    },
    {
      "cell_type": "code",
      "source": [
        "# untuk melihat jumlah missing coloum di setiap kolom\n",
        "df.isna().sum()"
      ],
      "metadata": {
        "colab": {
          "base_uri": "https://localhost:8080/"
        },
        "id": "oYQ7ydhRXCgi",
        "outputId": "e2b92ad6-5c8e-4c14-f242-0cd2ea301461"
      },
      "execution_count": null,
      "outputs": [
        {
          "output_type": "execute_result",
          "data": {
            "text/plain": [
              "Facility_ID                                             0\n",
              "Facility_Name                                           0\n",
              "Address                                                 0\n",
              "City                                                    0\n",
              "State                                                   0\n",
              "ZIP_Code                                                0\n",
              "County_Name                                             0\n",
              "Phone_Number                                            0\n",
              "HCAHPS_Measure_ID                                       0\n",
              "HCAHPS_Question                                         0\n",
              "HCAHPS_Answer_Description                               0\n",
              "Patient_Survey_Star_Rating                              0\n",
              "HCAHPS_Answer_Percent                                   0\n",
              "HCAHPS_Linear_Mean_Value                                0\n",
              "Number_of_Completed_Surveys                             0\n",
              "Survey_Response_Rate_Percent                            0\n",
              "Start_Date                                              0\n",
              "End_Date                                                0\n",
              "Year                                                    0\n",
              "Hospital_Type                                           0\n",
              "Hospital_Ownership                                      0\n",
              "Emergency_Services                                      0\n",
              "Hospital_overall_rating                                 0\n",
              "Mortality_national_comparison                           0\n",
              "Safety_of_care_national_comparison                      0\n",
              "Readmission_national_comparison                         0\n",
              "Patient_experience_national_comparison                  0\n",
              "Effectiveness_of_care_national_comparison               0\n",
              "Timeliness_of_care_national_comparison                  0\n",
              "Efficient_use_of_medical_imaging_national_comparison    0\n",
              "dtype: int64"
            ]
          },
          "metadata": {},
          "execution_count": 8
        }
      ]
    },
    {
      "cell_type": "code",
      "source": [
        "# Menghapus baris dengan missing values\n",
        "df_cleaned = df.dropna()"
      ],
      "metadata": {
        "id": "Da5ZyJUCYAPG"
      },
      "execution_count": null,
      "outputs": []
    },
    {
      "cell_type": "code",
      "source": [
        "# untuk melihat jumlah data duplikat\n",
        "df.duplicated().sum()"
      ],
      "metadata": {
        "colab": {
          "base_uri": "https://localhost:8080/"
        },
        "id": "PgWW_9LkXlsr",
        "outputId": "000b01c0-8273-4c53-9894-6bd25f719438"
      },
      "execution_count": null,
      "outputs": [
        {
          "output_type": "execute_result",
          "data": {
            "text/plain": [
              "0"
            ]
          },
          "metadata": {},
          "execution_count": 10
        }
      ]
    },
    {
      "cell_type": "code",
      "source": [
        "#menghapus baris duplikat\n",
        "df_no_duplicates = df.drop_duplicates()"
      ],
      "metadata": {
        "id": "K0EadJDGXtc4"
      },
      "execution_count": null,
      "outputs": []
    },
    {
      "cell_type": "code",
      "source": [
        "print(df.dtypes)\n"
      ],
      "metadata": {
        "id": "gdFPXXdPYTzq",
        "colab": {
          "base_uri": "https://localhost:8080/"
        },
        "outputId": "239b2eae-da23-4fce-83a5-a27dcfe075f7"
      },
      "execution_count": null,
      "outputs": [
        {
          "output_type": "stream",
          "name": "stdout",
          "text": [
            "Facility_ID                                              object\n",
            "Facility_Name                                            object\n",
            "Address                                                  object\n",
            "City                                                     object\n",
            "State                                                    object\n",
            "ZIP_Code                                                float64\n",
            "County_Name                                              object\n",
            "Phone_Number                                             object\n",
            "HCAHPS_Measure_ID                                        object\n",
            "HCAHPS_Question                                          object\n",
            "HCAHPS_Answer_Description                                object\n",
            "Patient_Survey_Star_Rating                               object\n",
            "HCAHPS_Answer_Percent                                    object\n",
            "HCAHPS_Linear_Mean_Value                                 object\n",
            "Number_of_Completed_Surveys                              object\n",
            "Survey_Response_Rate_Percent                             object\n",
            "Start_Date                                               object\n",
            "End_Date                                                 object\n",
            "Year                                                      int64\n",
            "Hospital_Type                                            object\n",
            "Hospital_Ownership                                       object\n",
            "Emergency_Services                                       object\n",
            "Hospital_overall_rating                                  object\n",
            "Mortality_national_comparison                            object\n",
            "Safety_of_care_national_comparison                       object\n",
            "Readmission_national_comparison                          object\n",
            "Patient_experience_national_comparison                   object\n",
            "Effectiveness_of_care_national_comparison                object\n",
            "Timeliness_of_care_national_comparison                   object\n",
            "Efficient_use_of_medical_imaging_national_comparison     object\n",
            "dtype: object\n"
          ]
        }
      ]
    },
    {
      "cell_type": "code",
      "source": [
        "# Konversi kolom 'Year' menjadi datetime dan ambil hanya bagian tahun\n",
        "df['Year'] = pd.to_datetime(df['Year'], errors='coerce').dt.year"
      ],
      "metadata": {
        "id": "Z-nUSvmwn5Ff"
      },
      "execution_count": null,
      "outputs": []
    },
    {
      "cell_type": "code",
      "source": [
        "print(df.dtypes)"
      ],
      "metadata": {
        "colab": {
          "base_uri": "https://localhost:8080/"
        },
        "id": "XsNTpRIvyvXE",
        "outputId": "39bafee0-3df6-4e05-e335-51b2a163e6ac"
      },
      "execution_count": null,
      "outputs": [
        {
          "output_type": "stream",
          "name": "stdout",
          "text": [
            "Facility ID                                                     object\n",
            "Facility Name                                                   object\n",
            "Address                                                         object\n",
            "City                                                            object\n",
            "State                                                           object\n",
            "ZIP Code                                                       float64\n",
            "County Name                                                     object\n",
            "Phone Number                                                    object\n",
            "HCAHPS Measure ID                                               object\n",
            "HCAHPS Question                                                 object\n",
            "HCAHPS Answer Description                                       object\n",
            "Patient Survey Star Rating                                      object\n",
            "HCAHPS Answer Percent                                           object\n",
            "HCAHPS Linear Mean Value                                        object\n",
            "Number of Completed Surveys                                     object\n",
            "Survey Response Rate Percent                                    object\n",
            "Start Date                                              datetime64[ns]\n",
            "End Date                                                datetime64[ns]\n",
            "Year                                                             int32\n",
            "Hospital Type                                                   object\n",
            "Hospital Ownership                                              object\n",
            "Emergency Services                                              object\n",
            "Hospital overall rating                                         object\n",
            "Mortality national comparison                                   object\n",
            "Safety of care national comparison                              object\n",
            "Readmission national comparison                                 object\n",
            "Patient experience national comparison                          object\n",
            "Effectiveness of care national comparison                       object\n",
            "Timeliness of care national comparison                          object\n",
            "Efficient use of medical imaging national comparison            object\n",
            "dtype: object\n"
          ]
        }
      ]
    },
    {
      "cell_type": "code",
      "source": [
        "# Mengubah nama kolom yang memiliki spasi menjadi underscore\n",
        "df.columns = df.columns.str.replace(' ', '_')"
      ],
      "metadata": {
        "id": "ZQTg8Xilx0IV"
      },
      "execution_count": null,
      "outputs": []
    },
    {
      "cell_type": "code",
      "source": [
        "df_hasil = df.columns"
      ],
      "metadata": {
        "id": "DwDEZHIE5ZsI"
      },
      "execution_count": null,
      "outputs": []
    },
    {
      "cell_type": "code",
      "source": [
        "df_hasil.shape"
      ],
      "metadata": {
        "colab": {
          "base_uri": "https://localhost:8080/"
        },
        "id": "cJA_I7iSpCtF",
        "outputId": "a3965330-ea9b-4e41-c10f-40372491ed10"
      },
      "execution_count": null,
      "outputs": [
        {
          "output_type": "execute_result",
          "data": {
            "text/plain": [
              "(30,)"
            ]
          },
          "metadata": {},
          "execution_count": 73
        }
      ]
    },
    {
      "cell_type": "code",
      "source": [
        "df.info()"
      ],
      "metadata": {
        "colab": {
          "base_uri": "https://localhost:8080/"
        },
        "id": "tSiTARA453LG",
        "outputId": "7ed0c3fa-2cd0-441d-ad22-763d3215ac5f"
      },
      "execution_count": null,
      "outputs": [
        {
          "output_type": "stream",
          "name": "stdout",
          "text": [
            "<class 'pandas.core.frame.DataFrame'>\n",
            "RangeIndex: 51697 entries, 0 to 51696\n",
            "Data columns (total 30 columns):\n",
            " #   Column                                                Non-Null Count  Dtype  \n",
            "---  ------                                                --------------  -----  \n",
            " 0   Facility_ID                                           51697 non-null  object \n",
            " 1   Facility_Name                                         51697 non-null  object \n",
            " 2   Address                                               51697 non-null  object \n",
            " 3   City                                                  51697 non-null  object \n",
            " 4   State                                                 51697 non-null  object \n",
            " 5   ZIP_Code                                              51697 non-null  float64\n",
            " 6   County_Name                                           51697 non-null  object \n",
            " 7   Phone_Number                                          51697 non-null  object \n",
            " 8   HCAHPS_Measure_ID                                     51697 non-null  object \n",
            " 9   HCAHPS_Question                                       51697 non-null  object \n",
            " 10  HCAHPS_Answer_Description                             51697 non-null  object \n",
            " 11  Patient_Survey_Star_Rating                            51697 non-null  object \n",
            " 12  HCAHPS_Answer_Percent                                 51697 non-null  object \n",
            " 13  HCAHPS_Linear_Mean_Value                              51697 non-null  object \n",
            " 14  Number_of_Completed_Surveys                           51697 non-null  object \n",
            " 15  Survey_Response_Rate_Percent                          51697 non-null  object \n",
            " 16  Start_Date                                            51697 non-null  object \n",
            " 17  End_Date                                              51697 non-null  object \n",
            " 18  Year                                                  51697 non-null  int64  \n",
            " 19  Hospital_Type                                         51697 non-null  object \n",
            " 20  Hospital_Ownership                                    51697 non-null  object \n",
            " 21  Emergency_Services                                    51697 non-null  object \n",
            " 22  Hospital_overall_rating                               51697 non-null  object \n",
            " 23  Mortality_national_comparison                         51697 non-null  object \n",
            " 24  Safety_of_care_national_comparison                    51697 non-null  object \n",
            " 25  Readmission_national_comparison                       51697 non-null  object \n",
            " 26  Patient_experience_national_comparison                51697 non-null  object \n",
            " 27  Effectiveness_of_care_national_comparison             51697 non-null  object \n",
            " 28  Timeliness_of_care_national_comparison                51697 non-null  object \n",
            " 29  Efficient_use_of_medical_imaging_national_comparison  51697 non-null  object \n",
            "dtypes: float64(1), int64(1), object(28)\n",
            "memory usage: 11.8+ MB\n"
          ]
        }
      ]
    },
    {
      "cell_type": "code",
      "source": [
        "#menyimpan data yang telah dibersihkan\n",
        "df.to_csv('/content/drive/MyDrive/cleaning data/Hasil_Cleaned_Dataset_Finish.csv')"
      ],
      "metadata": {
        "id": "gIL97eBDYZ6F"
      },
      "execution_count": null,
      "outputs": []
    }
  ]
}